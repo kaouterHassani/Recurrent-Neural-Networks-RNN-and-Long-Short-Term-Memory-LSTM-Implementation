{
  "cells": [
    {
      "cell_type": "markdown",
      "metadata": {
        "id": "Lyejzf2TELFr"
      },
      "source": [
        "<a name='0'></a>\n",
        "## Packages"
      ]
    },
    {
      "cell_type": "code",
      "execution_count": 2,
      "metadata": {
        "id": "fXWmy3GdELFr"
      },
      "outputs": [],
      "source": [
        "import numpy as np\n"
      ]
    },
    {
      "cell_type": "code",
      "source": [
        "def softmax(x):\n",
        "    e_x = np.exp(x - np.max(x))\n",
        "    return e_x / e_x.sum(axis=0)\n",
        "\n",
        "\n",
        "def sigmoid(x):\n",
        "    return 1 / (1 + np.exp(-x))"
      ],
      "metadata": {
        "id": "BPS3vmsRVlXL"
      },
      "execution_count": 3,
      "outputs": []
    },
    {
      "cell_type": "code",
      "source": [
        "def initialize_adam(parameters) :\n",
        "\n",
        "    L = len(parameters) // 2 # number of layers in the neural networks\n",
        "    v = {}\n",
        "    s = {}\n",
        "\n",
        "    for l in range(L):\n",
        "        v[\"dW\" + str(l+1)] = np.zeros(parameters[\"W\" + str(l+1)].shape)\n",
        "        v[\"db\" + str(l+1)] = np.zeros(parameters[\"b\" + str(l+1)].shape)\n",
        "        s[\"dW\" + str(l+1)] = np.zeros(parameters[\"W\" + str(l+1)].shape)\n",
        "        s[\"db\" + str(l+1)] = np.zeros(parameters[\"b\" + str(l+1)].shape)\n",
        "\n",
        "    return v, s\n",
        "\n",
        "\n",
        "def update_parameters_with_adam(parameters, grads, v, s, t, learning_rate = 0.01,\n",
        "                                beta1 = 0.9, beta2 = 0.999,  epsilon = 1e-8):\n",
        "\n",
        "\n",
        "    L = len(parameters) // 2                 # number of layers in the neural networks\n",
        "    v_corrected = {}                         # Initializing first moment estimate, python dictionary\n",
        "    s_corrected = {}                         # Initializing second moment estimate, python dictionary\n",
        "\n",
        "    # Perform Adam update on all parameters\n",
        "    for l in range(L):\n",
        "\n",
        "        v[\"dW\" + str(l+1)] = beta1 * v[\"dW\" + str(l+1)] + (1 - beta1) * grads[\"dW\" + str(l+1)]\n",
        "        v[\"db\" + str(l+1)] = beta1 * v[\"db\" + str(l+1)] + (1 - beta1) * grads[\"db\" + str(l+1)]\n",
        "\n",
        "        v_corrected[\"dW\" + str(l+1)] = v[\"dW\" + str(l+1)] / (1 - beta1**t)\n",
        "        v_corrected[\"db\" + str(l+1)] = v[\"db\" + str(l+1)] / (1 - beta1**t)\n",
        "\n",
        "        s[\"dW\" + str(l+1)] = beta2 * s[\"dW\" + str(l+1)] + (1 - beta2) * (grads[\"dW\" + str(l+1)] ** 2)\n",
        "        s[\"db\" + str(l+1)] = beta2 * s[\"db\" + str(l+1)] + (1 - beta2) * (grads[\"db\" + str(l+1)] ** 2)\n",
        "\n",
        "        s_corrected[\"dW\" + str(l+1)] = s[\"dW\" + str(l+1)] / (1 - beta2 ** t)\n",
        "        s_corrected[\"db\" + str(l+1)] = s[\"db\" + str(l+1)] / (1 - beta2 ** t)\n",
        "\n",
        "        parameters[\"W\" + str(l+1)] = parameters[\"W\" + str(l+1)] - learning_rate * v_corrected[\"dW\" + str(l+1)] / np.sqrt(s_corrected[\"dW\" + str(l+1)] + epsilon)\n",
        "        parameters[\"b\" + str(l+1)] = parameters[\"b\" + str(l+1)] - learning_rate * v_corrected[\"db\" + str(l+1)] / np.sqrt(s_corrected[\"db\" + str(l+1)] + epsilon)\n",
        "\n",
        "    return parameters, v, s"
      ],
      "metadata": {
        "id": "agr2-UjIVyCM"
      },
      "execution_count": 4,
      "outputs": []
    },
    {
      "cell_type": "markdown",
      "metadata": {
        "id": "03kGDM_sELFv"
      },
      "source": [
        "<a name='1'></a>\n",
        "## 1 - Forward Propagation for the Basic Recurrent Neural Network\n",
        "\n"
      ]
    },
    {
      "cell_type": "markdown",
      "metadata": {
        "id": "HhFLBKwbELF0"
      },
      "source": [
        "<a name='-1'></a>\n",
        " 1 - rnn_cell_forward\n",
        "\n",
        "\n",
        "1. The hidden state:\\\n",
        " $a^{\\langle t \\rangle} = \\tanh(W_{aa} a^{\\langle t-1 \\rangle} + W_{ax} x^{\\langle t \\rangle} + b_a)$\n",
        "2. Y-hat: <br>\n",
        " $\\hat{y}^{\\langle t \\rangle} = softmax(W_{ya} a^{\\langle t \\rangle} + b_y)$. `\n",
        "\n"
      ]
    },
    {
      "cell_type": "code",
      "execution_count": 5,
      "metadata": {
        "id": "fxI-F0HWELF1"
      },
      "outputs": [],
      "source": [
        "\n",
        "\n",
        "def rnn_cell_forward(xt, a_prev, parameters):\n",
        "\n",
        "   # xt -- your input data at timestep \"t\", numpy array of shape (n_x, m).\n",
        "   # a_prev -- Hidden state at timestep \"t-1\", numpy array of shape (n_a, m)\n",
        "   # parameters -- python dictionary (Wax, Waa, Wya, ba, by)\n",
        "\n",
        "    Wax = parameters[\"Wax\"]\n",
        "    Waa = parameters[\"Waa\"]\n",
        "    Wya = parameters[\"Wya\"]\n",
        "    ba = parameters[\"ba\"]\n",
        "    by = parameters[\"by\"]\n",
        "\n",
        "    a_next = np.tanh(np.dot(Waa,a_prev) + np.dot(Wax,xt) + ba)\n",
        "    yt_pred = softmax(np.dot(Wya,a_next) + by)\n",
        "\n",
        "\n",
        "\n",
        "    cache = (a_next, a_prev, xt, parameters)\n",
        "\n",
        "    return a_next, yt_pred, cache"
      ]
    },
    {
      "cell_type": "markdown",
      "metadata": {
        "id": "r104TTL-ELF8"
      },
      "source": [
        "<a name='-2'></a>\n",
        "### rnn_forward\n",
        "\n"
      ]
    },
    {
      "cell_type": "code",
      "execution_count": 6,
      "metadata": {
        "id": "VmeprGJpELF9"
      },
      "outputs": [],
      "source": [
        "\n",
        "\n",
        "def rnn_forward(x, a0, parameters):\n",
        "\n",
        "    # x -- Input data for every time-step, of shape (n_x, m, T_x).\n",
        "    # a0 -- Initial hidden state, of shape (n_a, m)\n",
        "    # parameters -- python dictionary\n",
        "\n",
        "    caches = []\n",
        "\n",
        "    n_x, m, T_x = x.shape\n",
        "    n_y, n_a = parameters[\"Wya\"].shape\n",
        "\n",
        "    a = np.zeros((n_a,m,T_x))\n",
        "    y_pred = np.zeros((n_y,m,T_x))\n",
        "\n",
        "    a_next = a0\n",
        "\n",
        "    # loop over all time-steps\n",
        "    for t in range(T_x):\n",
        "        a_next, yt_pred, cache =  rnn_cell_forward(x[:,:,t], a_next, parameters)\n",
        "        a[:,:,t] = a_next\n",
        "        y_pred[:,:,t] = yt_pred\n",
        "        caches.append(cache)\n",
        "\n",
        "    caches = (caches, x)\n",
        "\n",
        "    return a, y_pred, caches"
      ]
    },
    {
      "cell_type": "markdown",
      "metadata": {
        "id": "x2QbsWFzELGD"
      },
      "source": [
        "<a name='2'></a>\n",
        "## 2 - Long Short-Term Memory (LSTM) Network\n"
      ]
    },
    {
      "cell_type": "markdown",
      "metadata": {
        "id": "fyUcxGCJELGD"
      },
      "source": [
        "\n",
        "\n",
        "### Forget gate $\\mathbf{\\Gamma}_{f}$\n",
        "\n",
        "\n",
        "\n",
        "##### Equation\n",
        "\n",
        "$$\\mathbf{\\Gamma}_f^{\\langle t \\rangle} = \\sigma(\\mathbf{W}_f[\\mathbf{a}^{\\langle t-1 \\rangle}, \\mathbf{x}^{\\langle t \\rangle}] + \\mathbf{b}_f)\\ $$\n"
      ]
    },
    {
      "cell_type": "markdown",
      "metadata": {
        "id": "HHeiRiqKELGE"
      },
      "source": [
        "### Candidate value $\\tilde{\\mathbf{c}}^{\\langle t \\rangle}$\n",
        "\n",
        "\n",
        "##### Equation\n",
        "$$\\mathbf{\\tilde{c}}^{\\langle t \\rangle} = \\tanh\\left( \\mathbf{W}_{c} [\\mathbf{a}^{\\langle t - 1 \\rangle}, \\mathbf{x}^{\\langle t \\rangle}] + \\mathbf{b}_{c} \\right) \\tag{3}$$\n"
      ]
    },
    {
      "cell_type": "markdown",
      "metadata": {
        "id": "xewEj_FuELGF"
      },
      "source": [
        "### Update gate $\\mathbf{\\Gamma}_{i}$\n",
        "\n",
        "\n",
        "\n",
        "##### Equation\n",
        "\n",
        "$$\\mathbf{\\Gamma}_i^{\\langle t \\rangle} = \\sigma(\\mathbf{W}_i[a^{\\langle t-1 \\rangle}, \\mathbf{x}^{\\langle t \\rangle}] + \\mathbf{b}_i)\\tag{2} $$\n",
        "\n"
      ]
    },
    {
      "cell_type": "markdown",
      "metadata": {
        "id": "yvxVv83-ELGF"
      },
      "source": [
        "#### Cell state $\\mathbf{c}^{\\langle t \\rangle}$\n",
        "\n",
        "\n",
        "##### Equation\n",
        "\n",
        "$$ \\mathbf{c}^{\\langle t \\rangle} = \\mathbf{\\Gamma}_f^{\\langle t \\rangle}* \\mathbf{c}^{\\langle t-1 \\rangle} + \\mathbf{\\Gamma}_{i}^{\\langle t \\rangle} *\\mathbf{\\tilde{c}}^{\\langle t \\rangle} \\tag{4} $$\n"
      ]
    },
    {
      "cell_type": "markdown",
      "metadata": {
        "id": "XHVgaJxiELGG"
      },
      "source": [
        "### Output gate $\\mathbf{\\Gamma}_{o}$\n",
        "\n",
        "\n",
        "##### Equation\n",
        "\n",
        "$$ \\mathbf{\\Gamma}_o^{\\langle t \\rangle}=  \\sigma(\\mathbf{W}_o[\\mathbf{a}^{\\langle t-1 \\rangle}, \\mathbf{x}^{\\langle t \\rangle}] + \\mathbf{b}_{o})\\tag{5}$$\n"
      ]
    },
    {
      "cell_type": "markdown",
      "metadata": {
        "id": "fWkiZ0M-ELGG"
      },
      "source": [
        "#### Hidden state $\\mathbf{a}^{\\langle t \\rangle}$\n",
        "\n",
        "##### Equation\n",
        "\n",
        "$$ \\mathbf{a}^{\\langle t \\rangle} = \\mathbf{\\Gamma}_o^{\\langle t \\rangle} * \\tanh(\\mathbf{c}^{\\langle t \\rangle})\\tag{6} $$\n"
      ]
    },
    {
      "cell_type": "markdown",
      "metadata": {
        "id": "7OYaNPNPELGH"
      },
      "source": [
        "#### Prediction $\\mathbf{y}^{\\langle t \\rangle}_{pred}$\n",
        "\n",
        "\n",
        "The equation :\n",
        "$$\\mathbf{y}^{\\langle t \\rangle}_{pred} = \\textrm{softmax}(\\mathbf{W}_{y} \\mathbf{a}^{\\langle t \\rangle} + \\mathbf{b}_{y})$$\n"
      ]
    },
    {
      "cell_type": "markdown",
      "metadata": {
        "id": "G49sqmnoELGI"
      },
      "source": [
        "<a name='2-1'></a>\n",
        "### 2.1 - LSTM Cell\n",
        "\n",
        "<a name='e-3'></a>\n",
        "###  lstm_cell_forward\n",
        "\n"
      ]
    },
    {
      "cell_type": "code",
      "execution_count": 8,
      "metadata": {
        "id": "JU3tUxvmELGJ"
      },
      "outputs": [],
      "source": [
        "def lstm_cell_forward(xt, a_prev, c_prev, parameters):\n",
        "\n",
        "    Wf = parameters[\"Wf\"] # forget gate weight\n",
        "    bf = parameters[\"bf\"]\n",
        "    Wi = parameters[\"Wi\"] # update gate weight\n",
        "    bi = parameters[\"bi\"]\n",
        "    Wc = parameters[\"Wc\"] # candidate value weight\n",
        "    bc = parameters[\"bc\"]\n",
        "    Wo = parameters[\"Wo\"] # output gate weight\n",
        "    bo = parameters[\"bo\"]\n",
        "    Wy = parameters[\"Wy\"] # prediction weight\n",
        "    by = parameters[\"by\"]\n",
        "\n",
        "    n_x, m = xt.shape\n",
        "    n_y, n_a = Wy.shape\n",
        "\n",
        "\n",
        "    concat = np.concatenate((a_prev , xt))\n",
        "\n",
        "\n",
        "    ft = sigmoid(np.dot(Wf , concat) + bf)\n",
        "    it = sigmoid(np.dot(Wi , concat) + bi)\n",
        "    cct = np.tanh(np.dot(Wc , concat) + bc)\n",
        "    c_next = ft * c_prev + it * cct\n",
        "    ot = sigmoid(np.dot(Wo , concat) + bo)\n",
        "    a_next = ot * np.tanh(c_next)\n",
        "\n",
        "    yt_pred = softmax(np.dot(Wy , a_next) + by)\n",
        "\n",
        "    cache = (a_next, c_next, a_prev, c_prev, ft, it, cct, ot, xt, parameters)\n",
        "\n",
        "    return a_next, c_next, yt_pred, cache"
      ]
    },
    {
      "cell_type": "markdown",
      "metadata": {
        "id": "tb-4WWn4ELGQ"
      },
      "source": [
        "<a name='2-2'></a>\n",
        "### 2.2 - Forward Pass for LSTM\n",
        "\n",
        "<a name='e-4'></a>    \n",
        "###  lstm_forward\n",
        "  "
      ]
    },
    {
      "cell_type": "code",
      "execution_count": 9,
      "metadata": {
        "id": "XMmJrPSdELGQ"
      },
      "outputs": [],
      "source": [
        "def lstm_forward(x, a0, parameters):\n",
        "\n",
        "\n",
        "    caches = []\n",
        "\n",
        "    Wy = parameters['Wy']\n",
        "    n_x, m, T_x = x.shape\n",
        "    n_y, n_a = Wy.shape\n",
        "\n",
        "    a = np.zeros((n_a,m,T_x))\n",
        "    c = np.zeros((n_a,m,T_x))\n",
        "    y = np.zeros((n_y,m,T_x))\n",
        "\n",
        "    a_next = a0\n",
        "    c_next = np.zeros((n_a,m))\n",
        "\n",
        "    # loop over all time-steps\n",
        "    for t in range(T_x):\n",
        "        # Get the 2D slice 'xt' from the 3D input 'x' at time step 't'\n",
        "        xt = x[:,:,t]\n",
        "        a_next, c_next, yt, cache = lstm_cell_forward(xt, a_next, c_next, parameters)\n",
        "        a[:,:,t] = a_next\n",
        "        c[:,:,t]  = c_next\n",
        "        y[:,:,t] = yt\n",
        "        caches.append(cache)\n",
        "\n",
        "\n",
        "    caches = (caches, x)\n",
        "\n",
        "    return a, y, c, caches"
      ]
    },
    {
      "cell_type": "markdown",
      "metadata": {
        "id": "hRg4ba60ELGW"
      },
      "source": [
        "<a name='3'></a>    \n",
        "## 3 - Backpropagation in RNN"
      ]
    },
    {
      "cell_type": "markdown",
      "metadata": {
        "id": "PeVJfrjkELGa"
      },
      "source": [
        "##### Equations\n",
        "\n",
        "\n",
        "\\begin{align}\n",
        "\\displaystyle a^{\\langle t \\rangle} &= \\tanh(W_{ax} x^{\\langle t \\rangle} + W_{aa} a^{\\langle t-1 \\rangle} + b_{a})\\ \\\\[8pt]\n",
        "\\displaystyle \\frac{\\partial \\tanh(x)} {\\partial x} &= 1 - \\tanh^2(x) \\ \\\\[8pt]\n",
        "\\displaystyle {dtanh} &= da_{next} * ( 1 - \\tanh^2(W_{ax}x^{\\langle t \\rangle}+W_{aa} a^{\\langle t-1 \\rangle} + b_{a})) \\ \\\\[8pt]\n",
        "\\displaystyle  {dW_{ax}} &= dtanh \\cdot x^{\\langle t \\rangle T} \\\\[8pt]\n",
        "\\displaystyle dW_{aa} &= dtanh \\cdot a^{\\langle t-1 \\rangle T} \\\\[8pt]\n",
        "\\displaystyle db_a& = \\sum_{batch}dtanh\\ \\\\[8pt]\n",
        "\\displaystyle dx^{\\langle t \\rangle} &= { W_{ax}}^T \\cdot dtanh\\\\[8pt]\n",
        "\\displaystyle da_{prev} &= { W_{aa}}^T \\cdot dtanh\n",
        "\\end{align}\n",
        "\n"
      ]
    },
    {
      "cell_type": "markdown",
      "metadata": {
        "id": "FYskaCprELGa"
      },
      "source": [
        "<a name='e-5'></a>\n",
        "###  rnn_cell_backward\n",
        "\n"
      ]
    },
    {
      "cell_type": "code",
      "execution_count": 10,
      "metadata": {
        "id": "BmbWomYOELGb"
      },
      "outputs": [],
      "source": [
        "def rnn_cell_backward(da_next, cache):\n",
        "\n",
        "\n",
        "    (a_next, a_prev, xt, parameters) = cache\n",
        "\n",
        "    Wax = parameters[\"Wax\"]\n",
        "    Waa = parameters[\"Waa\"]\n",
        "    Wya = parameters[\"Wya\"]\n",
        "    ba = parameters[\"ba\"]\n",
        "    by = parameters[\"by\"]\n",
        "\n",
        "    # compute the gradient of dtanh\n",
        "    dtanh = da_next * (1 - np.square(np.tanh(np.dot(Wax,xt) + np.dot(Waa,a_prev) + ba)))\n",
        "\n",
        "    # compute the gradient of the loss\n",
        "    dxt = np.dot(np.transpose(Wax) , dtanh)\n",
        "    dWax = np.dot(dtanh , np.transpose(xt))\n",
        "\n",
        "    da_prev = np.dot(np.transpose(Waa) , dtanh)\n",
        "    dWaa = np.dot(dtanh,np.transpose(a_prev))\n",
        "\n",
        "    dba = np.sum(dtanh , keepdims = True , axis  = 1)\n",
        "\n",
        "\n",
        "    gradients = {\"dxt\": dxt, \"da_prev\": da_prev, \"dWax\": dWax, \"dWaa\": dWaa, \"dba\": dba}\n",
        "\n",
        "    return gradients"
      ]
    },
    {
      "cell_type": "markdown",
      "metadata": {
        "id": "-iKRDCSwELGg"
      },
      "source": [
        "<a name='e-6'></a>\n",
        "###  rnn_backward\n"
      ]
    },
    {
      "cell_type": "code",
      "execution_count": 11,
      "metadata": {
        "id": "G38ecvUDELGg"
      },
      "outputs": [],
      "source": [
        "def rnn_backward(da, caches):\n",
        "\n",
        "\n",
        "    (caches, x) = caches\n",
        "    (a1, a0, x1, parameters) = caches[0]\n",
        "\n",
        "    n_a, m, T_x = da.shape\n",
        "    n_x, m = x1.shape\n",
        "\n",
        "    dx = np.zeros((n_x, m, T_x))\n",
        "    dWax = np.zeros((n_a, n_x))\n",
        "    dWaa = np.zeros((n_a, n_a))\n",
        "    dba = np.zeros((n_a, 1))\n",
        "    da0 = np.zeros((n_a, m))\n",
        "    da_prevt = np.zeros((n_a, m))\n",
        "\n",
        "    # Loop through all the time steps\n",
        "    for t in reversed(range(T_x)):\n",
        "        gradients = rnn_cell_backward(da[:, :, t] + da_prevt, caches[t])\n",
        "        dxt, da_prevt, dWaxt, dWaat, dbat = gradients[\"dxt\"], gradients[\"da_prev\"], gradients[\"dWax\"], gradients[\"dWaa\"], gradients[\"dba\"]\n",
        "        dx[:, :, t] = dxt\n",
        "        dWax += dWaxt\n",
        "        dWaa += dWaat\n",
        "        dba += dbat\n",
        "\n",
        "    da0 = da_prevt\n",
        "\n",
        "    gradients = {\"dx\": dx, \"da0\": da0, \"dWax\": dWax, \"dWaa\": dWaa,\"dba\": dba}\n",
        "\n",
        "    return gradients"
      ]
    }
  ],
  "metadata": {
    "coursera": {
      "schema_names": [
        "DLSC5W1-A1"
      ]
    },
    "kernelspec": {
      "display_name": "Python 3",
      "language": "python",
      "name": "python3"
    },
    "language_info": {
      "codemirror_mode": {
        "name": "ipython",
        "version": 3
      },
      "file_extension": ".py",
      "mimetype": "text/x-python",
      "name": "python",
      "nbconvert_exporter": "python",
      "pygments_lexer": "ipython3",
      "version": "3.7.6"
    },
    "colab": {
      "provenance": []
    }
  },
  "nbformat": 4,
  "nbformat_minor": 0
}